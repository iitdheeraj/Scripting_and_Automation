{
  "metadata": {
    "language_info": {
      "codemirror_mode": {
        "name": "python",
        "version": 3
      },
      "file_extension": ".py",
      "mimetype": "text/x-python",
      "name": "python",
      "nbconvert_exporter": "python",
      "pygments_lexer": "ipython3",
      "version": "3.8"
    },
    "kernelspec": {
      "name": "python",
      "display_name": "Python (Pyodide)",
      "language": "python"
    }
  },
  "nbformat_minor": 4,
  "nbformat": 4,
  "cells": [
    {
      "cell_type": "code",
      "source": "import os\nimport pandas as pd\nimport numpy as np\nimport matplotlib.pyplot as plt\nimport datetime",
      "metadata": {},
      "execution_count": null,
      "outputs": []
    },
    {
      "cell_type": "code",
      "source": "files = os.listdir(\"Modules\")\nfiles = [file for file in files if \".v\" or \".sv\" in file]\nfiles",
      "metadata": {},
      "execution_count": null,
      "outputs": []
    },
    {
      "cell_type": "code",
      "source": "file = open(\"Script/tcl_add.tcl\",\"w\")\ncurrent_directory = os.getcwd()\npath = os.path.join(current_directory, 'Assignment')\nif(os.path.exists(path)):\n    print(\"Assignment file already exists do you want to overwrite it (yes/no) :\")\n    x=input()\n    if(x==\"yes\"):\n        file.write(\"create_project -force Assignment [pwd]/Assignment -part xc7a35tcpg236-1 \\n\")\n    else:\n        file.write(\"open_project [pwd]/Assignment/Assignment.xpr \\n\")\nelse:\n    file.write(\"create_project -force Assignment [pwd]/Assignment -part xc7a35tcpg236-1 \\n\")\n\nfile.write(\"set_property board_part digilentinc.com:basys3:part0:1.1 [current_project] \\n\")\nfile.write(\"update_compile_order -fileset sources_1 \\n\")\nfile.write(\"foreach m_file $argv { \\n\")\nfile.write(\"    add_files -norecurse $m_file \\n\")\nfile.write(\"        update_compile_order -fileset sources_1 \\n\")\nfile.write(\"} \\n\")\nfile.write(\"close_project \\n\")\nfile.close()",
      "metadata": {},
      "execution_count": null,
      "outputs": []
    },
    {
      "cell_type": "code",
      "source": "v_file = \"\"\nfor module in files:\n    v_file += \"Modules/\" + module + \" \"\nv_file",
      "metadata": {},
      "execution_count": null,
      "outputs": []
    },
    {
      "cell_type": "code",
      "source": "os.system(\"vivado -mode batch -source Script/tcl_add.tcl -tclargs {}\".format(v_file))",
      "metadata": {},
      "execution_count": null,
      "outputs": []
    },
    {
      "cell_type": "code",
      "source": "os.mkdir(\"Impl\")",
      "metadata": {},
      "execution_count": null,
      "outputs": []
    },
    {
      "cell_type": "code",
      "source": "top_modules = [file for file in files if \"top\" in file]\ntop_modules = [element.replace(\".v\", \"\").replace(\".sv\", \"\") for element in top_modules]\ntop_modules",
      "metadata": {},
      "execution_count": null,
      "outputs": []
    },
    {
      "cell_type": "code",
      "source": "for mod in top_modules:\n    os.mkdir(\"Impl/\" + mod)",
      "metadata": {},
      "execution_count": null,
      "outputs": []
    },
    {
      "cell_type": "code",
      "source": "for mod in top_modules:\n    os.system(\"vivado -mode batch -source Script/tcl_run1.tcl -tclargs {}\".format(mod))\n    print(\"{} is Implmented and Reports are generated\".format(mod))",
      "metadata": {},
      "execution_count": null,
      "outputs": []
    },
    {
      "cell_type": "code",
      "source": "DatapathDelay = []\n\nDynamicPower = []\nSignalPower = []\nLogicPower = []\nStaticPower = []\nTotalPower = []\nDCPower = []\n\nLUT = []\nSlice_LUTs = []\nSlice_LUTs2 = []\nF7_muxes = []\nLUT_as_Memory = []\nLUT_as_Memory2 = []\nLUT_as_Logic = []\nLUT_as_Logic2 = []\nLUTs_difference = []\nn = 0\nfor mod in top_modules:\n    n = n + 1\n    with open(\"Impl/{}/timing.txt\".format(mod)) as f:\n        lines = f.read()\n        timing = lines.split(\"\\n\")\n        timing_info = [line for line in timing if \"Data Path Delay\" in line]\n        dpd = float(timing_info[0].split()[3][:-2])\n        DatapathDelay.append(dpd)\n        \n    with open(\"Impl/{}/power.txt\".format(mod)) as f:\n        lines = f.read()\n        power = lines.split(\"\\n\")\n        power_info_1 = [line for line in power if \"Dynamic\" in line]\n        dpower = float(power_info_1[0].split(\"|\")[2].strip())\n        DynamicPower.append(dpower)\n        \n        power_info_2 = [line for line in power if \"Signals\" in line]\n        sigpower = float(power_info_2[0].split(\"|\")[2].strip())\n        SignalPower.append(sigpower)\n        \n        power_info_3 = [line for line in power if \"Slice Logic\" in line]\n        logpower = float(power_info_3[0].split(\"|\")[2].strip())\n        LogicPower.append(logpower)\n        \n        power_info_4 = [line for line in power if \"Static Power\" in line]\n        statpower = float(power_info_4[0].split(\"|\")[2].strip())\n        StaticPower.append(statpower)\n        \n        power_info_5 = [line for line in power if \"Total\" in line]\n        totpower = float(power_info_5[1].split(\"|\")[2].strip())\n        TotalPower.append(totpower)\n        \n        dcpower = (totpower-statpower)\n        DCPower.append(dcpower)\n        \n    with open(\"Impl/{}/utilization.txt\".format(mod)) as f:\n        lines = f.read()\n        uti = lines.split(\"\\n\")\n        \n        uti_info_1 = [line for line in uti if \"Slice LUTs\" in line]\n        util_1 = int(uti_info_1[0].split(\"|\")[2].strip())\n        Slice_LUTs.append(util_1)\n        \n        uti_info_2 = [line for line in uti if \"F7 Muxes\" in line]\n        util_2 = int(uti_info_2[0].split(\"|\")[2].strip())\n        F7_muxes.append(util_2)\n        \n        uti_info_3 = [line for line in uti if \"LUT as Memory\" in line]\n        util_3 = int(uti_info_3[0].split(\"|\")[2].strip())\n        LUT_as_Memory.append(util_3)\n\n        uti_info_4 = [line for line in uti if \"LUT as Logic\" in line]\n        util_4 = int(uti_info_4[0].split(\"|\")[2].strip())\n        LUT_as_Logic.append(util_4)\n        \n        uti_info_5 = [line for line in uti if \"Slice\" in line]\n        util_5 = int(uti_info_5[6].split(\"|\")[2].strip())\n        Slice_LUTs2.append(util_5)\n        \n        uti_info_6 = [line for line in uti if \"LUT as Logic\" in line]\n        util_6 = int(uti_info_6[1].split(\"|\")[2].strip())\n        LUT_as_Logic2.append(util_6)\n        \n        unit_7 = int(util_6 - util_4)\n        LUTs_difference.append(unit_7)\n        \n        uti_info_8 = [line for line in uti if \"LUT as Memory\" in line]\n        util_8 = int(uti_info_8[0].split(\"|\")[2].strip())\n        LUT_as_Memory2.append(util_8)\n\n        for x in range(1,8):\n            lut_info = [line for line in uti if \"LUT{}\".format(x) in line]\n            if len(lut_info)==0:\n                LUT.append(0)\n            else:\n                luts = int(lut_info[0].split(\"|\")[2].strip())\n                LUT.append(luts)\n                \nLUT1 = [LUT[0+7*i] for i in range(n)]\nLUT2 = [LUT[1+7*i] for i in range(n)]\nLUT3 = [LUT[2+7*i] for i in range(n)]\nLUT4 = [LUT[3+7*i] for i in range(n)]\nLUT5 = [LUT[4+7*i] for i in range(n)]\nLUT6 = [LUT[5+7*i] for i in range(n)]\nLUT7 = [LUT[6+7*i] for i in range(n)]",
      "metadata": {},
      "execution_count": null,
      "outputs": []
    },
    {
      "cell_type": "code",
      "source": "result = [DynamicPower, SignalPower, LogicPower, StaticPower, DCPower, TotalPower, DatapathDelay, F7_muxes, LUT_as_Memory, LUT_as_Logic, Slice_LUTs, LUT1, LUT2, LUT3, LUT4, LUT5, LUT6, LUT7, LUT_as_Memory2, Slice_LUTs2, LUT_as_Logic2, LUTs_difference]          \nresultT = np.array(result).T\nheading = [\"Dynamic Power (W)\", \"Signal Power (W)\", \"Logic Power (W)\", \"Static Power (W)\", \"DC Power (W)\", \"Total Power (W)\", \"Data Path Delay (ns)\", \"F7 Muxes\", \"LUT as Memory\", \"LUT as Logic\", \"Slice LUTs\", \"LUT1\", \"LUT2\", \"LUT3\", \"LUT4\", \"LUT5\", \"LUT6\", \"LUT7\", \"LUT as Memory2\", \"Slice LUTs2\", \"LUT as Logic2\", \"LUTs Difference\"]",
      "metadata": {},
      "execution_count": null,
      "outputs": []
    },
    {
      "cell_type": "code",
      "source": "df = pd.DataFrame(resultT)",
      "metadata": {},
      "execution_count": null,
      "outputs": []
    },
    {
      "cell_type": "code",
      "source": "df.columns = heading",
      "metadata": {},
      "execution_count": null,
      "outputs": []
    },
    {
      "cell_type": "code",
      "source": "df.insert(loc=0, column='Design', value=top_modules)\ndf",
      "metadata": {},
      "execution_count": null,
      "outputs": []
    },
    {
      "cell_type": "code",
      "source": "df.to_csv(\"result.csv\", index = False)",
      "metadata": {},
      "execution_count": null,
      "outputs": []
    }
  ]
}