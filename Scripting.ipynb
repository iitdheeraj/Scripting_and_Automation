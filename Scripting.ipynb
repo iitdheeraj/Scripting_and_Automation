{
 "cells": [
  {
   "cell_type": "code",
   "execution_count": 1,
   "id": "29a46174-46a6-458f-b132-efb0f03253a6",
   "metadata": {
    "tags": []
   },
   "outputs": [],
   "source": [
    "import os\n",
    "import pandas as pd\n",
    "import numpy as np\n",
    "import matplotlib.pyplot as plt\n",
    "import datetime"
   ]
  },
  {
   "cell_type": "code",
   "execution_count": 2,
   "id": "65c99708-3efd-41aa-8a5d-ab9c4ee15001",
   "metadata": {},
   "outputs": [],
   "source": [
    "files = os.listdir(\"Modules\")\n",
    "files = [file for file in files if \".v\" in file]"
   ]
  },
  {
   "cell_type": "markdown",
   "id": "d51c282c-d262-4a62-8cc8-a71f4bda7fa6",
   "metadata": {
    "tags": []
   },
   "source": [
    "## If file already exist then overwrite or not"
   ]
  },
  {
   "cell_type": "code",
   "execution_count": 15,
   "id": "659e3cc3-0fb8-4563-b381-b80ecec0ff83",
   "metadata": {},
   "outputs": [
    {
     "name": "stdout",
     "output_type": "stream",
     "text": [
      "Assignment file already exists do you want to overwrite it (yes/no) :\n"
     ]
    },
    {
     "name": "stdin",
     "output_type": "stream",
     "text": [
      " no\n"
     ]
    }
   ],
   "source": [
    "file = open(\"Script/tcl_add.tcl\",\"w\")\n",
    "current_directory = os.getcwd()\n",
    "path = os.path.join(current_directory, 'Assignment')\n",
    "if(os.path.exists(path)):\n",
    "    print(\"Assignment file already exists do you want to overwrite it (yes/no) :\")\n",
    "    x=input()\n",
    "    if(x==\"yes\"):\n",
    "        file.write(\"create_project -force Assignment [pwd]/Assignment -part xc7a35tcpg236-1 \\n\")\n",
    "    else:\n",
    "        file.write(\"open_project [pwd]/Assignment/Assignment.xpr \\n\")\n",
    "else:\n",
    "    file.write(\"create_project -force Assignment [pwd]/Assignment -part xc7a35tcpg236-1 \\n\")\n",
    "\n",
    "file.write(\"set_property board_part digilentinc.com:basys3:part0:1.1 [current_project] \\n\")\n",
    "file.write(\"update_compile_order -fileset sources_1 \\n\")\n",
    "file.write(\"foreach m_file $argv { \\n\")\n",
    "file.write(\"    add_files -norecurse $m_file \\n\")\n",
    "file.write(\"        update_compile_order -fileset sources_1 \\n\")\n",
    "file.write(\"} \\n\")\n",
    "file.write(\"close_project \\n\")\n",
    "file.close()"
   ]
  },
  {
   "cell_type": "markdown",
   "id": "71db56da-fc09-4f36-bfc3-0cb3b9966489",
   "metadata": {
    "tags": []
   },
   "source": [
    "## Add Files"
   ]
  },
  {
   "cell_type": "code",
   "execution_count": 3,
   "id": "192378eb-a792-42e7-b567-3eb884c0ba35",
   "metadata": {},
   "outputs": [],
   "source": [
    "v_file = \"\"\n",
    "for module in files:\n",
    "    v_file += \"Modules/\" + module + \" \""
   ]
  },
  {
   "cell_type": "code",
   "execution_count": 4,
   "id": "d6007c8a-1b67-4f1f-a3a8-a267186aa855",
   "metadata": {},
   "outputs": [
    {
     "data": {
      "text/plain": [
       "0"
      ]
     },
     "execution_count": 4,
     "metadata": {},
     "output_type": "execute_result"
    }
   ],
   "source": [
    "os.system(\"vivado -mode batch -source Script/tcl_add.tcl -tclargs {}\".format(v_file))"
   ]
  },
  {
   "cell_type": "code",
   "execution_count": 5,
   "id": "14b60727-3cb8-4ebc-a193-fbe3f3f13940",
   "metadata": {
    "tags": []
   },
   "outputs": [],
   "source": [
    "os.mkdir(\"Impl\")"
   ]
  },
  {
   "cell_type": "markdown",
   "id": "3047edda-32ed-43c5-a46f-425a441dbc64",
   "metadata": {
    "tags": []
   },
   "source": [
    "## Find Top Modules"
   ]
  },
  {
   "cell_type": "code",
   "execution_count": 6,
   "id": "24e9ea56-4247-4d86-8cdd-7995a14a2772",
   "metadata": {},
   "outputs": [
    {
     "data": {
      "text/plain": [
       "['top_Array_Multiplier_4bit.v',\n",
       " 'top_CLA8.v',\n",
       " 'top_CLA16.v',\n",
       " 'top_CLA32.v',\n",
       " 'top_mealy.v',\n",
       " 'top_moore.v',\n",
       " 'top_Priority_Encoder8_3.v']"
      ]
     },
     "execution_count": 6,
     "metadata": {},
     "output_type": "execute_result"
    }
   ],
   "source": [
    "top_modules = [file for file in files if \"top\" in file]\n",
    "top_modules"
   ]
  },
  {
   "cell_type": "markdown",
   "id": "746dfb05-54d8-4098-9e46-37fc79abad73",
   "metadata": {},
   "source": [
    "## Create TOP Module Directory in Impl"
   ]
  },
  {
   "cell_type": "code",
   "execution_count": 7,
   "id": "5a6ea8a8-9569-4056-aa89-b652edaa45c7",
   "metadata": {
    "tags": []
   },
   "outputs": [],
   "source": [
    "for mod in top_modules:\n",
    "    os.mkdir(\"Impl/\" + mod[:-2])"
   ]
  },
  {
   "cell_type": "code",
   "execution_count": 8,
   "id": "f778a191-152e-425e-8764-d3f13b01b7ed",
   "metadata": {},
   "outputs": [
    {
     "name": "stdout",
     "output_type": "stream",
     "text": [
      "top_Array_Multiplier_4bit.v is Implmented and Reports are generated\n",
      "top_CLA8.v is Implmented and Reports are generated\n",
      "top_CLA16.v is Implmented and Reports are generated\n",
      "top_CLA32.v is Implmented and Reports are generated\n",
      "top_mealy.v is Implmented and Reports are generated\n",
      "top_moore.v is Implmented and Reports are generated\n",
      "top_Priority_Encoder8_3.v is Implmented and Reports are generated\n"
     ]
    }
   ],
   "source": [
    "for mod in top_modules:\n",
    "    os.system(\"vivado -mode batch -source Script/tcl_run.tcl -tclargs {}\".format(mod))\n",
    "    print(\"{} is Implmented and Reports are generated\".format(mod))"
   ]
  },
  {
   "cell_type": "code",
   "execution_count": 9,
   "id": "d8708790-aa6c-4ceb-bc94-a9f35c5ec5e5",
   "metadata": {},
   "outputs": [],
   "source": [
    "DatapathDelay = []\n",
    "\n",
    "DynamicPower = []\n",
    "SignalPower = []\n",
    "LogicPower = []\n",
    "StaticPower = []\n",
    "TotalPower = []\n",
    "DCPower = []\n",
    "\n",
    "LUT = []\n",
    "Slice_LUTs = []\n",
    "Slice_LUTs2 = []\n",
    "F7_muxes = []\n",
    "LUT_as_Memory = []\n",
    "LUT_as_Memory2 = []\n",
    "LUT_as_Logic = []\n",
    "LUT_as_Logic2 = []\n",
    "LUTs_difference = []\n",
    "n = 0\n",
    "for mod in top_modules:\n",
    "    n = n + 1\n",
    "    with open(\"Impl/{}/timing.txt\".format(mod[:-2])) as f:\n",
    "        lines = f.read()\n",
    "        timing = lines.split(\"\\n\")\n",
    "        timing_info = [line for line in timing if \"Data Path Delay\" in line]\n",
    "        dpd = float(timing_info[0].split()[3][:-2])\n",
    "        DatapathDelay.append(dpd)\n",
    "        \n",
    "    with open(\"Impl/{}/power.txt\".format(mod[:-2])) as f:\n",
    "        lines = f.read()\n",
    "        power = lines.split(\"\\n\")\n",
    "        power_info_1 = [line for line in power if \"Dynamic\" in line]\n",
    "        dpower = float(power_info_1[0].split(\"|\")[2].strip())\n",
    "        DynamicPower.append(dpower)\n",
    "        \n",
    "        power_info_2 = [line for line in power if \"Signals\" in line]\n",
    "        sigpower = float(power_info_2[0].split(\"|\")[2].strip())\n",
    "        SignalPower.append(sigpower)\n",
    "        \n",
    "        power_info_3 = [line for line in power if \"Slice Logic\" in line]\n",
    "        logpower = float(power_info_3[0].split(\"|\")[2].strip())\n",
    "        LogicPower.append(logpower)\n",
    "        \n",
    "        power_info_4 = [line for line in power if \"Static Power\" in line]\n",
    "        statpower = float(power_info_4[0].split(\"|\")[2].strip())\n",
    "        StaticPower.append(statpower)\n",
    "        \n",
    "        power_info_5 = [line for line in power if \"Total\" in line]\n",
    "        totpower = float(power_info_5[1].split(\"|\")[2].strip())\n",
    "        TotalPower.append(totpower)\n",
    "        \n",
    "        dcpower = (totpower-statpower)\n",
    "        DCPower.append(dcpower)\n",
    "        \n",
    "    with open(\"Impl/{}/utilization.txt\".format(mod[:-2])) as f:\n",
    "        lines = f.read()\n",
    "        uti = lines.split(\"\\n\")\n",
    "        \n",
    "        uti_info_1 = [line for line in uti if \"Slice LUTs\" in line]\n",
    "        util_1 = int(uti_info_1[0].split(\"|\")[2].strip())\n",
    "        Slice_LUTs.append(util_1)\n",
    "        \n",
    "        uti_info_2 = [line for line in uti if \"F7 Muxes\" in line]\n",
    "        util_2 = int(uti_info_2[0].split(\"|\")[2].strip())\n",
    "        F7_muxes.append(util_2)\n",
    "        \n",
    "        uti_info_3 = [line for line in uti if \"LUT as Memory\" in line]\n",
    "        util_3 = int(uti_info_3[0].split(\"|\")[2].strip())\n",
    "        LUT_as_Memory.append(util_3)\n",
    "\n",
    "        uti_info_4 = [line for line in uti if \"LUT as Logic\" in line]\n",
    "        util_4 = int(uti_info_4[0].split(\"|\")[2].strip())\n",
    "        LUT_as_Logic.append(util_4)\n",
    "        \n",
    "        uti_info_5 = [line for line in uti if \"Slice\" in line]\n",
    "        util_5 = int(uti_info_5[6].split(\"|\")[2].strip())\n",
    "        Slice_LUTs2.append(util_5)\n",
    "        \n",
    "        uti_info_6 = [line for line in uti if \"LUT as Logic\" in line]\n",
    "        util_6 = int(uti_info_6[1].split(\"|\")[2].strip())\n",
    "        LUT_as_Logic2.append(util_6)\n",
    "        \n",
    "        unit_7 = int(util_6 - util_4)\n",
    "        LUTs_difference.append(unit_7)\n",
    "        \n",
    "        uti_info_8 = [line for line in uti if \"LUT as Memory\" in line]\n",
    "        util_8 = int(uti_info_8[0].split(\"|\")[2].strip())\n",
    "        LUT_as_Memory2.append(util_8)\n",
    "\n",
    "        for x in range(1,8):\n",
    "            lut_info = [line for line in uti if \"LUT{}\".format(x) in line]\n",
    "            if len(lut_info)==0:\n",
    "                LUT.append(0)\n",
    "            else:\n",
    "                luts = int(lut_info[0].split(\"|\")[2].strip())\n",
    "                LUT.append(luts)\n",
    "                \n",
    "LUT1 = [LUT[0+7*i] for i in range(n)]\n",
    "LUT2 = [LUT[1+7*i] for i in range(n)]\n",
    "LUT3 = [LUT[2+7*i] for i in range(n)]\n",
    "LUT4 = [LUT[3+7*i] for i in range(n)]\n",
    "LUT5 = [LUT[4+7*i] for i in range(n)]\n",
    "LUT6 = [LUT[5+7*i] for i in range(n)]\n",
    "LUT7 = [LUT[6+7*i] for i in range(n)]"
   ]
  },
  {
   "cell_type": "code",
   "execution_count": 10,
   "id": "7418243b-397f-494c-817e-6754ca67c5b4",
   "metadata": {},
   "outputs": [],
   "source": [
    "result = [DynamicPower, SignalPower, LogicPower, StaticPower, DCPower, TotalPower, DatapathDelay, F7_muxes, LUT_as_Memory, LUT_as_Logic, Slice_LUTs, LUT1, LUT2, LUT3, LUT4, LUT5, LUT6, LUT7, LUT_as_Memory2, Slice_LUTs2, LUT_as_Logic2, LUTs_difference]          \n",
    "resultT = np.array(result).T\n",
    "heading = [\"Dynamic Power (W)\", \"Signal Power (W)\", \"Logic Power (W)\", \"Static Power (W)\", \"DC Power (W)\", \"Total Power (W)\", \"Data Path Delay (ns)\", \"F7 Muxes\", \"LUT as Memory\", \"LUT as Logic\", \"Slice LUTs\", \"LUT1\", \"LUT2\", \"LUT3\", \"LUT4\", \"LUT5\", \"LUT6\", \"LUT7\", \"LUT as Memory2\", \"Slice LUTs2\", \"LUT as Logic2\", \"LUTs Difference\"]"
   ]
  },
  {
   "cell_type": "code",
   "execution_count": 11,
   "id": "1a67c687-ffdd-46fa-9735-8370d8768ccd",
   "metadata": {
    "tags": []
   },
   "outputs": [],
   "source": [
    "df = pd.DataFrame(resultT)"
   ]
  },
  {
   "cell_type": "code",
   "execution_count": 12,
   "id": "f357ac22-0301-4012-a0df-a9436cab8d1e",
   "metadata": {},
   "outputs": [],
   "source": [
    "df.columns = heading"
   ]
  },
  {
   "cell_type": "code",
   "execution_count": 13,
   "id": "679cab97-2da7-4593-b182-42cb31819879",
   "metadata": {},
   "outputs": [],
   "source": [
    "df.insert(loc=0, column='Design', value=top_modules)"
   ]
  },
  {
   "cell_type": "code",
   "execution_count": 14,
   "id": "f81e212c-586a-44ba-997a-e27b091953ef",
   "metadata": {},
   "outputs": [
    {
     "data": {
      "text/html": [
       "<div>\n",
       "<style scoped>\n",
       "    .dataframe tbody tr th:only-of-type {\n",
       "        vertical-align: middle;\n",
       "    }\n",
       "\n",
       "    .dataframe tbody tr th {\n",
       "        vertical-align: top;\n",
       "    }\n",
       "\n",
       "    .dataframe thead th {\n",
       "        text-align: right;\n",
       "    }\n",
       "</style>\n",
       "<table border=\"1\" class=\"dataframe\">\n",
       "  <thead>\n",
       "    <tr style=\"text-align: right;\">\n",
       "      <th></th>\n",
       "      <th>Design</th>\n",
       "      <th>Dynamic Power (W)</th>\n",
       "      <th>Signal Power (W)</th>\n",
       "      <th>Logic Power (W)</th>\n",
       "      <th>Static Power (W)</th>\n",
       "      <th>DC Power (W)</th>\n",
       "      <th>Total Power (W)</th>\n",
       "      <th>Data Path Delay (ns)</th>\n",
       "      <th>F7 Muxes</th>\n",
       "      <th>LUT as Memory</th>\n",
       "      <th>...</th>\n",
       "      <th>LUT2</th>\n",
       "      <th>LUT3</th>\n",
       "      <th>LUT4</th>\n",
       "      <th>LUT5</th>\n",
       "      <th>LUT6</th>\n",
       "      <th>LUT7</th>\n",
       "      <th>LUT as Memory2</th>\n",
       "      <th>Slice LUTs2</th>\n",
       "      <th>LUT as Logic2</th>\n",
       "      <th>LUTs Difference</th>\n",
       "    </tr>\n",
       "  </thead>\n",
       "  <tbody>\n",
       "    <tr>\n",
       "      <th>0</th>\n",
       "      <td>top_Array_Multiplier_4bit.v</td>\n",
       "      <td>3.951</td>\n",
       "      <td>0.133</td>\n",
       "      <td>0.085</td>\n",
       "      <td>0.083</td>\n",
       "      <td>3.951</td>\n",
       "      <td>4.034</td>\n",
       "      <td>10.902</td>\n",
       "      <td>0.0</td>\n",
       "      <td>0.0</td>\n",
       "      <td>...</td>\n",
       "      <td>7.0</td>\n",
       "      <td>1.0</td>\n",
       "      <td>1.0</td>\n",
       "      <td>5.0</td>\n",
       "      <td>9.0</td>\n",
       "      <td>0.0</td>\n",
       "      <td>0.0</td>\n",
       "      <td>5.0</td>\n",
       "      <td>17.0</td>\n",
       "      <td>0.0</td>\n",
       "    </tr>\n",
       "    <tr>\n",
       "      <th>1</th>\n",
       "      <td>top_CLA8.v</td>\n",
       "      <td>4.807</td>\n",
       "      <td>0.167</td>\n",
       "      <td>0.065</td>\n",
       "      <td>0.088</td>\n",
       "      <td>4.807</td>\n",
       "      <td>4.895</td>\n",
       "      <td>9.882</td>\n",
       "      <td>0.0</td>\n",
       "      <td>0.0</td>\n",
       "      <td>...</td>\n",
       "      <td>1.0</td>\n",
       "      <td>2.0</td>\n",
       "      <td>3.0</td>\n",
       "      <td>3.0</td>\n",
       "      <td>6.0</td>\n",
       "      <td>0.0</td>\n",
       "      <td>0.0</td>\n",
       "      <td>4.0</td>\n",
       "      <td>13.0</td>\n",
       "      <td>0.0</td>\n",
       "    </tr>\n",
       "    <tr>\n",
       "      <th>2</th>\n",
       "      <td>top_CLA16.v</td>\n",
       "      <td>10.890</td>\n",
       "      <td>0.500</td>\n",
       "      <td>0.194</td>\n",
       "      <td>0.156</td>\n",
       "      <td>10.890</td>\n",
       "      <td>11.046</td>\n",
       "      <td>12.463</td>\n",
       "      <td>0.0</td>\n",
       "      <td>0.0</td>\n",
       "      <td>...</td>\n",
       "      <td>6.0</td>\n",
       "      <td>4.0</td>\n",
       "      <td>8.0</td>\n",
       "      <td>5.0</td>\n",
       "      <td>22.0</td>\n",
       "      <td>0.0</td>\n",
       "      <td>0.0</td>\n",
       "      <td>10.0</td>\n",
       "      <td>35.0</td>\n",
       "      <td>0.0</td>\n",
       "    </tr>\n",
       "    <tr>\n",
       "      <th>3</th>\n",
       "      <td>top_CLA32.v</td>\n",
       "      <td>22.729</td>\n",
       "      <td>1.749</td>\n",
       "      <td>0.505</td>\n",
       "      <td>0.485</td>\n",
       "      <td>22.728</td>\n",
       "      <td>23.213</td>\n",
       "      <td>18.806</td>\n",
       "      <td>0.0</td>\n",
       "      <td>0.0</td>\n",
       "      <td>...</td>\n",
       "      <td>26.0</td>\n",
       "      <td>9.0</td>\n",
       "      <td>14.0</td>\n",
       "      <td>15.0</td>\n",
       "      <td>59.0</td>\n",
       "      <td>0.0</td>\n",
       "      <td>0.0</td>\n",
       "      <td>33.0</td>\n",
       "      <td>96.0</td>\n",
       "      <td>0.0</td>\n",
       "    </tr>\n",
       "    <tr>\n",
       "      <th>4</th>\n",
       "      <td>top_mealy.v</td>\n",
       "      <td>0.222</td>\n",
       "      <td>0.140</td>\n",
       "      <td>0.078</td>\n",
       "      <td>0.071</td>\n",
       "      <td>0.221</td>\n",
       "      <td>0.292</td>\n",
       "      <td>6.305</td>\n",
       "      <td>0.0</td>\n",
       "      <td>0.0</td>\n",
       "      <td>...</td>\n",
       "      <td>66.0</td>\n",
       "      <td>11.0</td>\n",
       "      <td>3.0</td>\n",
       "      <td>1.0</td>\n",
       "      <td>0.0</td>\n",
       "      <td>0.0</td>\n",
       "      <td>0.0</td>\n",
       "      <td>35.0</td>\n",
       "      <td>66.0</td>\n",
       "      <td>0.0</td>\n",
       "    </tr>\n",
       "    <tr>\n",
       "      <th>5</th>\n",
       "      <td>top_moore.v</td>\n",
       "      <td>0.222</td>\n",
       "      <td>0.140</td>\n",
       "      <td>0.078</td>\n",
       "      <td>0.069</td>\n",
       "      <td>0.222</td>\n",
       "      <td>0.291</td>\n",
       "      <td>6.177</td>\n",
       "      <td>0.0</td>\n",
       "      <td>0.0</td>\n",
       "      <td>...</td>\n",
       "      <td>66.0</td>\n",
       "      <td>11.0</td>\n",
       "      <td>1.0</td>\n",
       "      <td>4.0</td>\n",
       "      <td>0.0</td>\n",
       "      <td>0.0</td>\n",
       "      <td>0.0</td>\n",
       "      <td>35.0</td>\n",
       "      <td>67.0</td>\n",
       "      <td>0.0</td>\n",
       "    </tr>\n",
       "    <tr>\n",
       "      <th>6</th>\n",
       "      <td>top_Priority_Encoder8_3.v</td>\n",
       "      <td>0.386</td>\n",
       "      <td>0.041</td>\n",
       "      <td>0.013</td>\n",
       "      <td>0.071</td>\n",
       "      <td>0.386</td>\n",
       "      <td>0.457</td>\n",
       "      <td>7.676</td>\n",
       "      <td>0.0</td>\n",
       "      <td>0.0</td>\n",
       "      <td>...</td>\n",
       "      <td>1.0</td>\n",
       "      <td>0.0</td>\n",
       "      <td>1.0</td>\n",
       "      <td>0.0</td>\n",
       "      <td>2.0</td>\n",
       "      <td>0.0</td>\n",
       "      <td>0.0</td>\n",
       "      <td>2.0</td>\n",
       "      <td>4.0</td>\n",
       "      <td>0.0</td>\n",
       "    </tr>\n",
       "  </tbody>\n",
       "</table>\n",
       "<p>7 rows × 23 columns</p>\n",
       "</div>"
      ],
      "text/plain": [
       "                        Design  Dynamic Power (W)  Signal Power (W)  \\\n",
       "0  top_Array_Multiplier_4bit.v              3.951             0.133   \n",
       "1                   top_CLA8.v              4.807             0.167   \n",
       "2                  top_CLA16.v             10.890             0.500   \n",
       "3                  top_CLA32.v             22.729             1.749   \n",
       "4                  top_mealy.v              0.222             0.140   \n",
       "5                  top_moore.v              0.222             0.140   \n",
       "6    top_Priority_Encoder8_3.v              0.386             0.041   \n",
       "\n",
       "   Logic Power (W)  Static Power (W)  DC Power (W)  Total Power (W)  \\\n",
       "0            0.085             0.083         3.951            4.034   \n",
       "1            0.065             0.088         4.807            4.895   \n",
       "2            0.194             0.156        10.890           11.046   \n",
       "3            0.505             0.485        22.728           23.213   \n",
       "4            0.078             0.071         0.221            0.292   \n",
       "5            0.078             0.069         0.222            0.291   \n",
       "6            0.013             0.071         0.386            0.457   \n",
       "\n",
       "   Data Path Delay (ns)  F7 Muxes  LUT as Memory  ...  LUT2  LUT3  LUT4  LUT5  \\\n",
       "0                10.902       0.0            0.0  ...   7.0   1.0   1.0   5.0   \n",
       "1                 9.882       0.0            0.0  ...   1.0   2.0   3.0   3.0   \n",
       "2                12.463       0.0            0.0  ...   6.0   4.0   8.0   5.0   \n",
       "3                18.806       0.0            0.0  ...  26.0   9.0  14.0  15.0   \n",
       "4                 6.305       0.0            0.0  ...  66.0  11.0   3.0   1.0   \n",
       "5                 6.177       0.0            0.0  ...  66.0  11.0   1.0   4.0   \n",
       "6                 7.676       0.0            0.0  ...   1.0   0.0   1.0   0.0   \n",
       "\n",
       "   LUT6  LUT7  LUT as Memory2  Slice LUTs2  LUT as Logic2  LUTs Difference  \n",
       "0   9.0   0.0             0.0          5.0           17.0              0.0  \n",
       "1   6.0   0.0             0.0          4.0           13.0              0.0  \n",
       "2  22.0   0.0             0.0         10.0           35.0              0.0  \n",
       "3  59.0   0.0             0.0         33.0           96.0              0.0  \n",
       "4   0.0   0.0             0.0         35.0           66.0              0.0  \n",
       "5   0.0   0.0             0.0         35.0           67.0              0.0  \n",
       "6   2.0   0.0             0.0          2.0            4.0              0.0  \n",
       "\n",
       "[7 rows x 23 columns]"
      ]
     },
     "execution_count": 14,
     "metadata": {},
     "output_type": "execute_result"
    }
   ],
   "source": [
    "df"
   ]
  },
  {
   "cell_type": "code",
   "execution_count": 16,
   "id": "a39e7175-af17-4f91-8fda-edfa0e8284bb",
   "metadata": {},
   "outputs": [],
   "source": [
    "df.to_csv(\"result.csv\", index = False)"
   ]
  },
  {
   "cell_type": "code",
   "execution_count": null,
   "id": "0971b3e6-c4b8-4286-84c9-1984539e6e26",
   "metadata": {},
   "outputs": [],
   "source": []
  },
  {
   "cell_type": "code",
   "execution_count": null,
   "id": "8e7a4147-2d2b-4fa1-a9ac-421a66786f6e",
   "metadata": {},
   "outputs": [],
   "source": []
  }
 ],
 "metadata": {
  "kernelspec": {
   "display_name": "Python 3",
   "language": "python",
   "name": "python3"
  },
  "language_info": {
   "codemirror_mode": {
    "name": "ipython",
    "version": 3
   },
   "file_extension": ".py",
   "mimetype": "text/x-python",
   "name": "python",
   "nbconvert_exporter": "python",
   "pygments_lexer": "ipython3",
   "version": "3.6.8"
  }
 },
 "nbformat": 4,
 "nbformat_minor": 5
}
